{
 "cells": [
  {
   "cell_type": "code",
   "execution_count": null,
   "metadata": {},
   "outputs": [],
   "source": [
    "# Average of n numbers\n",
    "\n",
    "numbers = int(input('Enter the number: '))\n",
    "numbers_list = []\n",
    "total = 0\n",
    "for items in range(0,numbers):\n",
    "    elements = int(input())\n",
    "    numbers_list.append(elements)\n",
    "    total = total + elements\n",
    "    average = total / numbers\n",
    "    \n",
    "print(f'The average of the numbers is: {average}')"
   ]
  },
  {
   "cell_type": "markdown",
   "metadata": {},
   "source": []
  },
  {
   "cell_type": "code",
   "execution_count": null,
   "metadata": {},
   "outputs": [],
   "source": [
    "# Sum of first n natural numbers\n",
    "\n",
    "number_1  = int(input('Enter the number: '))\n",
    "total = 0\n",
    "for items_1 in range(0,number_1 + 1):\n",
    "    total+= items_1\n",
    "\n",
    "    \n",
    "print(f'The total is {total}')"
   ]
  },
  {
   "cell_type": "code",
   "execution_count": null,
   "metadata": {},
   "outputs": [],
   "source": [
    "# To get current username\n",
    "\n",
    "import getpass\n",
    "\n",
    "print(getpass.getuser())"
   ]
  },
  {
   "cell_type": "code",
   "execution_count": null,
   "metadata": {},
   "outputs": [],
   "source": [
    "# To print the environment variables:\n",
    "\n",
    "import os\n",
    "\n",
    "print(os.environ['PATH'])"
   ]
  },
  {
   "cell_type": "code",
   "execution_count": null,
   "metadata": {},
   "outputs": [],
   "source": [
    "# Write a program which will find all such numbers which are divisible by 7 but are not a multiple of 5, \n",
    "# between 2000 and 3200 (both included).\n",
    "# The numbers obtained should be printed in a comma-separated sequence on a single line.\n",
    "\n",
    "obtained_numbers = []\n",
    "for numbers in range(2000,3201):\n",
    "    if numbers % 7 == 0 and numbers % 5 !=0:\n",
    "        obtained_numbers.append(numbers)\n",
    "print(obtained_numbers)\n"
   ]
  },
  {
   "cell_type": "code",
   "execution_count": null,
   "metadata": {},
   "outputs": [],
   "source": [
    "# Write a program which can compute the factorial of a given numbers.\n",
    "# The results should be printed in a comma-separated sequence on a single line.\n",
    "# Suppose the following input is supplied to the program: 8 Then, the output should be:40320\n",
    "\n",
    "\n",
    "number = int(input())\n",
    "factorial = 1\n",
    "\n",
    "for nums in range(1,number+1):\n",
    "    factorial = factorial * nums\n",
    "print(factorial)\n",
    "\n"
   ]
  },
  {
   "cell_type": "code",
   "execution_count": null,
   "metadata": {},
   "outputs": [],
   "source": [
    "# With a given integral number n, write a program to generate a dictionary that contains (i, i x i) such that is an integral number between 1 and n (both included).\n",
    "# and then the program should print the dictionary.\n",
    "\n",
    "user_input = int(input())\n",
    "dic = {items:items * items for items in range(1,user_input+1)}\n",
    "print(dic)\n"
   ]
  },
  {
   "cell_type": "code",
   "execution_count": null,
   "metadata": {},
   "outputs": [],
   "source": [
    "# Write a program which accepts a sequence of comma-separated \n",
    "# numbers from console and generate a list and a tuple which contains every number.\n",
    "\n",
    "n = int(input())\n",
    "list_items = []\n",
    "\n",
    "for items in range(1,n+1):\n",
    "    elements = int(input())\n",
    "    list_items.append(elements)\n",
    "print(list_items)\n",
    "print(tuple(list_items))\n",
    "    \n",
    "    \n"
   ]
  },
  {
   "cell_type": "code",
   "execution_count": null,
   "metadata": {},
   "outputs": [],
   "source": [
    "# Define a class which has at least two methods:\n",
    "\n",
    "# getString: to get a string from console input\n",
    "# printString: to print the string in upper case.\n",
    "\n",
    "\n",
    "class InputOutString:\n",
    "    def __init__(self):\n",
    "        self.string = ''\n",
    "        \n",
    "    def getString(self):\n",
    "        self.string = input()\n",
    "        \n",
    "    def printString(self):\n",
    "        print(self.string.upper())\n",
    "        \n",
    "# Creating the object or instance\n",
    "# Name of the object is \"instance\"\n",
    "\n",
    "instance = InputOutString() \n",
    "# Using the method\n",
    "instance.getString()\n",
    "# Using the method\n",
    "instance.printString()\n",
    "        \n",
    "    "
   ]
  },
  {
   "cell_type": "code",
   "execution_count": null,
   "metadata": {},
   "outputs": [],
   "source": [
    "# Write a program that calculates and prints the value according to the given formula:\n",
    "\n",
    "# Q = Square root of [(2 _ C _ D)/H]\n",
    "\n",
    "# Following are the fixed values of C and H:\n",
    "\n",
    "# C is 50. H is 30.\n",
    "\n",
    "# D is the variable whose values should be input to your program in a comma-separated sequence.\n",
    "\n",
    "import math\n",
    "n = int(input())\n",
    "C = 50\n",
    "H = 30\n",
    "result_list = []\n",
    "\n",
    "\n",
    "for item in range(1,n+1):\n",
    "    D = int(input())\n",
    "    Q = str(int(round(math.sqrt((2*C*D)/H))))\n",
    "    result_list.append(Q)\n",
    "    \n",
    "# \".join\" is only used for strings\n",
    "# Hence we converted result of \"Q\" into a string\n",
    "\n",
    "    \n",
    "print(','.join(result_list))\n",
    "\n",
    "\n",
    "    \n",
    "   \n",
    "\n"
   ]
  },
  {
   "cell_type": "code",
   "execution_count": null,
   "metadata": {},
   "outputs": [],
   "source": [
    "# Write a program that accepts a comma separated sequence of words as input and prints the words in a comma-separated sequence\n",
    "# after sorting them alphabetically.\n",
    "\n",
    "n = int(input())\n",
    "my_words = []\n",
    "\n",
    "for items in range(1,n+1):\n",
    "    words = input()\n",
    "    my_words.append(words)\n",
    "\n",
    "\n",
    "my_words.sort()    \n",
    "print(','.join(my_words))\n"
   ]
  },
  {
   "cell_type": "code",
   "execution_count": 1,
   "metadata": {},
   "outputs": [
    {
     "name": "stdout",
     "output_type": "stream",
     "text": [
      "1 2 3 4 5 6 7 8 9 10 11 12 13 14 15 16 17 18 19 20 21 22 23 24 25 26 27 28 29 30 31 32 33 34 35 36 37 38 39 40 41 42 43 44 45 46 47 48 49 50 51 52 53 54 55 56 57 58 59 60 61 62 63 64 "
     ]
    }
   ],
   "source": [
    "# Print 1 to N without loop, using Recursion\n",
    "\n",
    "def rec(n):\n",
    "    if n <= 0:\n",
    "        return \n",
    "    rec(n-1)\n",
    "    print(n,end=' ')\n",
    "    \n",
    "\n",
    "rec(64)\n",
    "    "
   ]
  },
  {
   "cell_type": "code",
   "execution_count": 2,
   "metadata": {},
   "outputs": [
    {
     "name": "stdout",
     "output_type": "stream",
     "text": [
      "25\n",
      "3\n",
      "2\n",
      "5\n"
     ]
    },
    {
     "data": {
      "text/plain": [
       "10"
      ]
     },
     "execution_count": 2,
     "metadata": {},
     "output_type": "execute_result"
    }
   ],
   "source": [
    "# Sum of digits of a number\n",
    "\n",
    "def sumOfDigits(n):\n",
    "    if n < 10:\n",
    "        return n\n",
    "    \n",
    "#     print(n//10)\n",
    "#     print(n%10)\n",
    "    \n",
    "\n",
    "    return  n % 10 + sumOfDigits(n//10) \n",
    "    \n",
    "    \n",
    "sumOfDigits(253)"
   ]
  },
  {
   "cell_type": "code",
   "execution_count": 10,
   "metadata": {},
   "outputs": [
    {
     "data": {
      "text/plain": [
       "array([6., 5., 4., 3., 2., 1.])"
      ]
     },
     "execution_count": 10,
     "metadata": {},
     "output_type": "execute_result"
    }
   ],
   "source": []
  },
  {
   "cell_type": "code",
   "execution_count": 25,
   "metadata": {},
   "outputs": [
    {
     "name": "stdout",
     "output_type": "stream",
     "text": [
      "[[1 2 3]\n",
      " [4 5 6]\n",
      " [7 8 9]]\n",
      "(3, 2)\n"
     ]
    }
   ],
   "source": []
  },
  {
   "cell_type": "code",
   "execution_count": null,
   "metadata": {},
   "outputs": [],
   "source": []
  }
 ],
 "metadata": {
  "kernelspec": {
   "display_name": "Python 3",
   "language": "python",
   "name": "python3"
  },
  "language_info": {
   "codemirror_mode": {
    "name": "ipython",
    "version": 3
   },
   "file_extension": ".py",
   "mimetype": "text/x-python",
   "name": "python",
   "nbconvert_exporter": "python",
   "pygments_lexer": "ipython3",
   "version": "3.7.3"
  }
 },
 "nbformat": 4,
 "nbformat_minor": 2
}
