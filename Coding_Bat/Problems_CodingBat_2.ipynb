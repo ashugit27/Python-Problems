{
 "cells": [
  {
   "cell_type": "code",
   "execution_count": null,
   "metadata": {},
   "outputs": [],
   "source": [
    "# Problem_1: Given a string and a non-negative int n, \n",
    "# return a larger string that is n copies of the original string.\n",
    "\n",
    "\n",
    "def string_times(str , n):\n",
    "    for items in str:\n",
    "        return str * n\n",
    "    \n",
    "string_times('code', 2 )\n",
    "\n"
   ]
  },
  {
   "cell_type": "code",
   "execution_count": null,
   "metadata": {},
   "outputs": [],
   "source": [
    "#Problem_2: Given a string and a non-negative int n, we'll say that the front of the string is the first 3 chars, \n",
    "# or whatever is there if the string is less than length 3. \n",
    "# Return n copies of the front\n",
    "\n",
    "\n",
    "def front_times(str, n):\n",
    "    if len(str) < 3:\n",
    "        return str[0:3] * n\n",
    "    else:\n",
    "        return str[0:3] * n\n",
    "    \n",
    "front_times('Chocolate', 2)"
   ]
  },
  {
   "cell_type": "code",
   "execution_count": null,
   "metadata": {},
   "outputs": [],
   "source": [
    "# Problem_3: Given a string, return a new string made of every other char starting with the first, so \"Hello\" yields \"Hlo\".\n",
    "\n",
    "def string_bits(str): \n",
    "    return str[0::2]\n",
    "\n",
    "string_bits('hxaxpxpxy')\n",
    "\n"
   ]
  },
  {
   "cell_type": "code",
   "execution_count": null,
   "metadata": {},
   "outputs": [],
   "source": [
    "# Problem_4: Given a non-empty string like \"Code\" return a string like \"CCoCodCode\".\n",
    "\n",
    "def string_splosion(str):\n",
    "    result = \"\"\n",
    "    for item in range(0,len(str)):\n",
    "        result = result + str[: item+1]\n",
    "    return result\n",
    "        \n",
    "string_splosion('code')\n",
    "    \n",
    "    "
   ]
  },
  {
   "cell_type": "code",
   "execution_count": 3,
   "metadata": {},
   "outputs": [
    {
     "data": {
      "text/plain": [
       "2"
      ]
     },
     "execution_count": 3,
     "metadata": {},
     "output_type": "execute_result"
    }
   ],
   "source": [
    "# Given a string, return the count of the number of times that a substring length 2 appears in the string and \n",
    "# also as the last 2 chars of the string, so \"hixxxhi\" yields 1 (we won't count the end substring).\n",
    "\n",
    "\n",
    "def last2(str):\n",
    "    if len(str) <= 2:\n",
    "        return 0\n",
    "    substring = str[-2:]\n",
    "    count = 0\n",
    "    \n",
    "    for items in range(len(str) - 2):\n",
    "        test_string = str[items:items+2]\n",
    "        if test_string == substring:\n",
    "            count+=1\n",
    "    return count\n",
    "\n",
    "last2('axxxaaxx')\n"
   ]
  },
  {
   "cell_type": "code",
   "execution_count": 9,
   "metadata": {},
   "outputs": [
    {
     "data": {
      "text/plain": [
       "4"
      ]
     },
     "execution_count": 9,
     "metadata": {},
     "output_type": "execute_result"
    }
   ],
   "source": [
    "def array_count9(arr):\n",
    "    count = 0 \n",
    "    for numbers in range(len(arr)):\n",
    "        if arr[numbers] == 9:\n",
    "            count+=1\n",
    "    return count\n",
    "\n",
    "array_count9([1,2,3,4,9,9,9,9])"
   ]
  },
  {
   "cell_type": "code",
   "execution_count": 5,
   "metadata": {},
   "outputs": [
    {
     "ename": "TypeError",
     "evalue": "argument of type 'int' is not iterable",
     "output_type": "error",
     "traceback": [
      "\u001b[1;31m---------------------------------------------------------------------------\u001b[0m",
      "\u001b[1;31mTypeError\u001b[0m                                 Traceback (most recent call last)",
      "\u001b[1;32m<ipython-input-5-38dbd7234c7d>\u001b[0m in \u001b[0;36m<module>\u001b[1;34m\u001b[0m\n\u001b[0;32m      1\u001b[0m \u001b[0mlist_1\u001b[0m \u001b[1;33m=\u001b[0m \u001b[1;33m[\u001b[0m\u001b[1;36m1\u001b[0m\u001b[1;33m,\u001b[0m\u001b[1;36m2\u001b[0m\u001b[1;33m,\u001b[0m\u001b[1;36m3\u001b[0m\u001b[1;33m,\u001b[0m\u001b[1;36m4\u001b[0m\u001b[1;33m,\u001b[0m\u001b[1;36m5\u001b[0m\u001b[1;33m,\u001b[0m\u001b[1;36m9\u001b[0m\u001b[1;33m,\u001b[0m\u001b[1;36m9\u001b[0m\u001b[1;33m]\u001b[0m\u001b[1;33m\u001b[0m\u001b[1;33m\u001b[0m\u001b[0m\n\u001b[0;32m      2\u001b[0m \u001b[1;32mfor\u001b[0m \u001b[0mits\u001b[0m \u001b[1;32min\u001b[0m \u001b[0mlist_1\u001b[0m\u001b[1;33m:\u001b[0m\u001b[1;33m\u001b[0m\u001b[1;33m\u001b[0m\u001b[0m\n\u001b[1;32m----> 3\u001b[1;33m     \u001b[1;32mif\u001b[0m \u001b[1;36m9\u001b[0m \u001b[1;32min\u001b[0m \u001b[0mits\u001b[0m\u001b[1;33m:\u001b[0m\u001b[1;33m\u001b[0m\u001b[1;33m\u001b[0m\u001b[0m\n\u001b[0m\u001b[0;32m      4\u001b[0m         \u001b[0mprint\u001b[0m\u001b[1;33m(\u001b[0m\u001b[0mits\u001b[0m\u001b[1;33m)\u001b[0m\u001b[1;33m\u001b[0m\u001b[1;33m\u001b[0m\u001b[0m\n",
      "\u001b[1;31mTypeError\u001b[0m: argument of type 'int' is not iterable"
     ]
    }
   ],
   "source": [
    "list_1 = [1,2,3,4,5,9,9]\n",
    "for its in list_1:\n",
    "    if 9 in its:\n",
    "        print(its)\n"
   ]
  },
  {
   "cell_type": "code",
   "execution_count": null,
   "metadata": {},
   "outputs": [],
   "source": []
  }
 ],
 "metadata": {
  "kernelspec": {
   "display_name": "Python 3",
   "language": "python",
   "name": "python3"
  },
  "language_info": {
   "codemirror_mode": {
    "name": "ipython",
    "version": 3
   },
   "file_extension": ".py",
   "mimetype": "text/x-python",
   "name": "python",
   "nbconvert_exporter": "python",
   "pygments_lexer": "ipython3",
   "version": "3.7.3"
  }
 },
 "nbformat": 4,
 "nbformat_minor": 2
}
