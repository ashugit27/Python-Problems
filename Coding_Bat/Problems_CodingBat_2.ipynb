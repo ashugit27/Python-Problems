{
 "cells": [
  {
   "cell_type": "code",
   "execution_count": null,
   "metadata": {},
   "outputs": [],
   "source": [
    "# Problem_1: Given a string and a non-negative int n, \n",
    "# return a larger string that is n copies of the original string.\n",
    "\n",
    "\n",
    "def string_times(str , n):\n",
    "    for items in str:\n",
    "        return str * n\n",
    "    \n",
    "string_times('code', 2 )\n",
    "\n"
   ]
  },
  {
   "cell_type": "code",
   "execution_count": null,
   "metadata": {},
   "outputs": [],
   "source": [
    "#Problem_2: Given a string and a non-negative int n, we'll say that the front of the string is the first 3 chars, \n",
    "# or whatever is there if the string is less than length 3. \n",
    "# Return n copies of the front\n",
    "\n",
    "\n",
    "def front_times(str, n):\n",
    "    if len(str) < 3:\n",
    "        return str[0:3] * n\n",
    "    else:\n",
    "        return str[0:3] * n\n",
    "    \n",
    "front_times('Chocolate', 2)"
   ]
  },
  {
   "cell_type": "code",
   "execution_count": null,
   "metadata": {},
   "outputs": [],
   "source": [
    "# Problem_3: Given a string, return a new string made of every other char starting with the first, so \"Hello\" yields \"Hlo\".\n",
    "\n",
    "def string_bits(str): \n",
    "    return str[0::2]\n",
    "\n",
    "string_bits('hxaxpxpxy')\n",
    "\n"
   ]
  },
  {
   "cell_type": "code",
   "execution_count": null,
   "metadata": {},
   "outputs": [],
   "source": [
    "# Problem_4: Given a non-empty string like \"Code\" return a string like \"CCoCodCode\".\n",
    "\n",
    "def string_splosion(str):\n",
    "    result = \"\"\n",
    "    for item in range(0,len(str)):\n",
    "        result = result + str[: item+1]\n",
    "    return result\n",
    "        \n",
    "string_splosion('code')\n",
    "    \n",
    "    "
   ]
  },
  {
   "cell_type": "code",
   "execution_count": null,
   "metadata": {},
   "outputs": [],
   "source": [
    "# Given a string, return the count of the number of times that a substring length 2 appears in the string and \n",
    "# also as the last 2 chars of the string, so \"hixxxhi\" yields 1 (we won't count the end substring).\n",
    "\n",
    "\n",
    "def last2(str):\n",
    "    if len(str) <= 2:\n",
    "        return 0\n",
    "    substring = str[-2:]\n",
    "    count = 0\n",
    "    \n",
    "    for items in range(len(str) - 2):\n",
    "        test_string = str[items:items+2]\n",
    "        if test_string == substring:\n",
    "            count+=1\n",
    "    return count\n",
    "\n",
    "last2('axxxaaxx')\n"
   ]
  },
  {
   "cell_type": "code",
   "execution_count": null,
   "metadata": {},
   "outputs": [],
   "source": [
    "def array_count9(arr):\n",
    "    count = 0 \n",
    "    for numbers in range(len(arr)):\n",
    "        if arr[numbers] == 9:\n",
    "            count+=1\n",
    "    return count\n",
    "\n",
    "array_count9([1,2,3,4,9,9,9,9])"
   ]
  },
  {
   "cell_type": "code",
   "execution_count": null,
   "metadata": {},
   "outputs": [],
   "source": [
    "# Given an array of ints, return True if one of the first 4 elements in the array is a 9. The array length may be less than 4.\n",
    "\n",
    "def array_font9(nums):\n",
    "    starting_four = nums[0:4]\n",
    "    for numbers in range(len(starting_four)):\n",
    "        if starting_four[numbers] == 9:\n",
    "            return True\n",
    "    return False\n",
    "array_font9([1,2,9,3,5,6,7,8])\n"
   ]
  },
  {
   "cell_type": "code",
   "execution_count": null,
   "metadata": {},
   "outputs": [],
   "source": [
    "# Given an array of ints, return True if the sequence of numbers 1, 2, 3 appears in the array somewhere.\n",
    "\n",
    "def array123(nums):\n",
    "        for numbers in range(len(nums) - 2):\n",
    "            test = nums[numbers:numbers+3]\n",
    "            if test == [1,2,3]:\n",
    "                return True\n",
    "        return False\n",
    "            \n",
    "\n",
    "array123([3,4,5,1,2,3,4,5,6,6,7])"
   ]
  },
  {
   "cell_type": "code",
   "execution_count": null,
   "metadata": {},
   "outputs": [],
   "source": [
    "# Given 2 strings, a and b, return the number of the positions where they contain the same length 2 substring. \n",
    "# So \"xxcaazz\" and \"xxbaaz\" yields 3, since the \"xx\", \"aa\", and \"az\" substrings appear in the same place in both strings.\n",
    "def string_match(a,b):\n",
    "    for items in range()\n"
   ]
  },
  {
   "cell_type": "code",
   "execution_count": null,
   "metadata": {},
   "outputs": [],
   "source": []
  }
 ],
 "metadata": {
  "kernelspec": {
   "display_name": "Python 3",
   "language": "python",
   "name": "python3"
  },
  "language_info": {
   "codemirror_mode": {
    "name": "ipython",
    "version": 3
   },
   "file_extension": ".py",
   "mimetype": "text/x-python",
   "name": "python",
   "nbconvert_exporter": "python",
   "pygments_lexer": "ipython3",
   "version": "3.7.3"
  }
 },
 "nbformat": 4,
 "nbformat_minor": 2
}
