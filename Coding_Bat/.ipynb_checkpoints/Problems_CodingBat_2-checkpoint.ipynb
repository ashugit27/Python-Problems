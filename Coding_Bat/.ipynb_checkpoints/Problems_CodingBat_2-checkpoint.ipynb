{
 "cells": [
  {
   "cell_type": "code",
   "execution_count": 8,
   "metadata": {},
   "outputs": [
    {
     "data": {
      "text/plain": [
       "'codecode'"
      ]
     },
     "execution_count": 8,
     "metadata": {},
     "output_type": "execute_result"
    }
   ],
   "source": [
    "# Problem_1: Given a string and a non-negative int n, \n",
    "# return a larger string that is n copies of the original string.\n",
    "\n",
    "\n",
    "def string_times(str , n):\n",
    "    for items in str:\n",
    "        return str * n\n",
    "    \n",
    "string_times('code', 2 )\n",
    "\n"
   ]
  },
  {
   "cell_type": "code",
   "execution_count": 9,
   "metadata": {},
   "outputs": [
    {
     "data": {
      "text/plain": [
       "'ChoCho'"
      ]
     },
     "execution_count": 9,
     "metadata": {},
     "output_type": "execute_result"
    }
   ],
   "source": [
    "#Problem_2: Given a string and a non-negative int n, we'll say that the front of the string is the first 3 chars, \n",
    "# or whatever is there if the string is less than length 3. \n",
    "# Return n copies of the front\n",
    "\n",
    "\n",
    "def front_times(str, n):\n",
    "    if len(str) < 3:\n",
    "        return str[0:3] * n\n",
    "    else:\n",
    "        return str[0:3] * n\n",
    "    \n",
    "front_times('Chocolate', 2)"
   ]
  },
  {
   "cell_type": "code",
   "execution_count": 18,
   "metadata": {},
   "outputs": [
    {
     "data": {
      "text/plain": [
       "'happy'"
      ]
     },
     "execution_count": 18,
     "metadata": {},
     "output_type": "execute_result"
    }
   ],
   "source": [
    "# Problem_3: Given a string, return a new string made of every other char starting with the first, so \"Hello\" yields \"Hlo\".\n",
    "\n",
    "def string_bits(str): \n",
    "    return str[0::2]\n",
    "\n",
    "string_bits('hxaxpxpxy')\n",
    "\n"
   ]
  },
  {
   "cell_type": "code",
   "execution_count": null,
   "metadata": {},
   "outputs": [],
   "source": [
    "# Problem_4: Given a non-empty string like \"Code\" return a string like \"CCoCodCode\".\n",
    "\n",
    "def string_splosion(str):\n",
    "    for item in str:\n",
    "        return str[]\n",
    "    \n",
    "    "
   ]
  }
 ],
 "metadata": {
  "kernelspec": {
   "display_name": "Python 3",
   "language": "python",
   "name": "python3"
  },
  "language_info": {
   "codemirror_mode": {
    "name": "ipython",
    "version": 3
   },
   "file_extension": ".py",
   "mimetype": "text/x-python",
   "name": "python",
   "nbconvert_exporter": "python",
   "pygments_lexer": "ipython3",
   "version": "3.7.3"
  }
 },
 "nbformat": 4,
 "nbformat_minor": 2
}
