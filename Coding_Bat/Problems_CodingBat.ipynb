{
 "cells": [
  {
   "cell_type": "code",
   "execution_count": 3,
   "metadata": {},
   "outputs": [
    {
     "data": {
      "text/plain": [
       "False"
      ]
     },
     "execution_count": 3,
     "metadata": {},
     "output_type": "execute_result"
    }
   ],
   "source": [
    "# Problem_1: The parameter weekday is True if it is a weekday, and the parameter vacation is True if we are on vacation. \n",
    "# We sleep in if it is not a weekday or we're on vacation. \n",
    "# Return True if we sleep in.\n",
    "\n",
    "def sleep_in(weekday,vacation):\n",
    "    if not weekday or vacation:\n",
    "        return True\n",
    "    else:\n",
    "        return False\n",
    "\n",
    "sleep_in(True , False)\n",
    "    \n",
    "\n"
   ]
  },
  {
   "cell_type": "code",
   "execution_count": 6,
   "metadata": {},
   "outputs": [
    {
     "data": {
      "text/plain": [
       "False"
      ]
     },
     "execution_count": 6,
     "metadata": {},
     "output_type": "execute_result"
    }
   ],
   "source": [
    "#Problem_2: We have two monkeys, a and b, and the parameters a_smile and b_smile indicate if each is smiling. \n",
    "# We are in trouble if they are both smiling or if neither of them is smiling. \n",
    "# Return True if we are in trouble.\n",
    "\n",
    "def monkey_trouble(a_smile , b_smile):\n",
    "    if a_smile == True and b_smile == True or  a_smile == False and b_smile == False:\n",
    "        return True\n",
    "    else:\n",
    "        return False\n",
    "    \n",
    "monkey_trouble(True , False)\n",
    "\n"
   ]
  },
  {
   "cell_type": "code",
   "execution_count": 9,
   "metadata": {},
   "outputs": [
    {
     "data": {
      "text/plain": [
       "8"
      ]
     },
     "execution_count": 9,
     "metadata": {},
     "output_type": "execute_result"
    }
   ],
   "source": [
    "#Problem_3: Given two int values, return their sum. \n",
    "# Unless the two values are the same, then return double their sum.\n",
    "\n",
    "def sum_double(num_1 , num_2):\n",
    "    if num_1 != num_2:\n",
    "        return num_1 + num_2\n",
    "    else:\n",
    "        return (num_1 * 2) + (num_2 * 2)\n",
    "\n",
    "sum_double(2,2)\n",
    "\n"
   ]
  },
  {
   "cell_type": "code",
   "execution_count": 16,
   "metadata": {},
   "outputs": [
    {
     "data": {
      "text/plain": [
       "23"
      ]
     },
     "execution_count": 16,
     "metadata": {},
     "output_type": "execute_result"
    }
   ],
   "source": [
    "#Problem_4: Given an int n, return the absolute difference between n and 21, \n",
    "# except return double the absolute difference if n is over 21.\n",
    "\n",
    "def diff_21(n):\n",
    "    if n < 21:\n",
    "        return abs(21 - n)\n",
    "    else:\n",
    "        return abs(21 - n) * 2\n",
    "    \n",
    "diff_21(-2)\n",
    "\n"
   ]
  },
  {
   "cell_type": "code",
   "execution_count": 24,
   "metadata": {},
   "outputs": [
    {
     "data": {
      "text/plain": [
       "False"
      ]
     },
     "execution_count": 24,
     "metadata": {},
     "output_type": "execute_result"
    }
   ],
   "source": [
    "#Problem_5: We have a loud talking parrot.\n",
    "# The \"hour\" parameter is the current hour time in the range 0..23. \n",
    "# We are in trouble if the parrot is talking and the hour is before 7 or after 20. \n",
    "# Return True if we are in trouble.\n",
    "\n",
    "def parrot_trouble(talking , hour):\n",
    "    if talking and (hour < 7 or hour > 20):\n",
    "        return True\n",
    "    else:\n",
    "        return False\n",
    "    \n",
    "parrot_trouble(False, 21)\n",
    "\n"
   ]
  },
  {
   "cell_type": "code",
   "execution_count": 3,
   "metadata": {},
   "outputs": [
    {
     "data": {
      "text/plain": [
       "True"
      ]
     },
     "execution_count": 3,
     "metadata": {},
     "output_type": "execute_result"
    }
   ],
   "source": [
    "#problem_6: Given 2 ints, a and b, return True if one of them is 10 or if their sum is 10.\n",
    "def makes_10(a,b):\n",
    "    if a == 10 or b == 10 or a + b == 10:\n",
    "        return True\n",
    "    else:\n",
    "        return False\n",
    "    \n",
    "makes_10(1,9)"
   ]
  },
  {
   "cell_type": "code",
   "execution_count": 6,
   "metadata": {},
   "outputs": [
    {
     "data": {
      "text/plain": [
       "False"
      ]
     },
     "execution_count": 6,
     "metadata": {},
     "output_type": "execute_result"
    }
   ],
   "source": [
    "# Problem_7: Given an int n, return True if it is within 10 of 100 or 200. \n",
    "# Note: abs(num) computes the absolute value of a number.\n",
    "\n",
    "def near_hundred(n):\n",
    "    if abs(100 - n) <=10 or abs(200 - n) <=10:\n",
    "        return True\n",
    "    else:\n",
    "        return False\n",
    "    \n",
    "near_hundred(89)\n",
    "  "
   ]
  },
  {
   "cell_type": "code",
   "execution_count": 9,
   "metadata": {},
   "outputs": [
    {
     "data": {
      "text/plain": [
       "True"
      ]
     },
     "execution_count": 9,
     "metadata": {},
     "output_type": "execute_result"
    }
   ],
   "source": [
    "# Problem_8: Given 2 int values, return True if one is negative and one is positive. \n",
    "# Except if the parameter \"negative\" is True, \n",
    "# then return True only if both are negative.\n",
    "\n",
    "def pos_neg(num_3,num_4,negative):\n",
    "    if negative:\n",
    "        if num_3 < 0 and num_4 < 0:\n",
    "            return True\n",
    "    elif num_3 < 0 and num_4 > 0 or num_3 > 0 or num_4 < 0:\n",
    "        return True\n",
    "    else:\n",
    "        return False\n",
    "    \n",
    "pos_neg(-1,-1,False)\n",
    "    \n",
    "\n"
   ]
  },
  {
   "cell_type": "code",
   "execution_count": 12,
   "metadata": {},
   "outputs": [
    {
     "data": {
      "text/plain": [
       "'not is not'"
      ]
     },
     "execution_count": 12,
     "metadata": {},
     "output_type": "execute_result"
    }
   ],
   "source": [
    "# Problem_9: Given a string, return a new string where \"not \" has been added to the front. \n",
    "# However, if the string already begins with \"not\", return the string unchanged.\n",
    "\n",
    "\n",
    "def not_string(str):\n",
    "    if str[0:3] == 'not':\n",
    "        return str\n",
    "    else:\n",
    "        return 'not ' + str\n",
    "    \n",
    "not_string('is not')\n",
    "\n",
    "\n",
    "\n",
    "\n",
    "\n",
    "\n",
    "\n",
    "\n"
   ]
  },
  {
   "cell_type": "code",
   "execution_count": 15,
   "metadata": {},
   "outputs": [
    {
     "data": {
      "text/plain": [
       "'asu'"
      ]
     },
     "execution_count": 15,
     "metadata": {},
     "output_type": "execute_result"
    }
   ],
   "source": [
    "# Probelm_10: Given a non-empty string and an int n, return a new string where the char at index n has been removed.\n",
    "# The value of n will be a valid index of a char in the original string \n",
    "# (i.e. n will be in the range 0..len(str)-1 inclusive).\n",
    "\n",
    "\n",
    "def missing_char(str , n):\n",
    "    front = str[0:n]\n",
    "    back = str[n+1:]\n",
    "    final = front + back\n",
    "    return final\n",
    "\n",
    "missing_char('ashu' , 2)"
   ]
  },
  {
   "cell_type": "code",
   "execution_count": 32,
   "metadata": {},
   "outputs": [
    {
     "data": {
      "text/plain": [
       "'eodc'"
      ]
     },
     "execution_count": 32,
     "metadata": {},
     "output_type": "execute_result"
    }
   ],
   "source": [
    "# Problem_11: Given a string, return a new string where the first and last chars have been exchanged.\n",
    "\n",
    "def front_back(str):\n",
    "    front  = str[0]\n",
    "    mid = str[1:-1]\n",
    "    back  = str[-1:]\n",
    "   \n",
    "    return back + mid + front\n",
    "\n",
    "front_back('code')"
   ]
  },
  {
   "cell_type": "code",
   "execution_count": 41,
   "metadata": {},
   "outputs": [
    {
     "data": {
      "text/plain": [
       "'ababab'"
      ]
     },
     "execution_count": 41,
     "metadata": {},
     "output_type": "execute_result"
    }
   ],
   "source": [
    "# Problem_12: Given a string, we'll say that the front is the first 3 chars of the string. \n",
    "# If the string length is less than 3, the front is whatever is there. \n",
    "# Return a new string which is 3 copies of the front.\n",
    "\n",
    "\n",
    "\n",
    "def front3(str):\n",
    "    if len(str) < 3:\n",
    "        return str[0:3]  + str[0:3] + str[0:3]\n",
    "    else:\n",
    "        return str[0:3] + str[0:3] + str[0:3]\n",
    "\n",
    "\n",
    "front3('ab')"
   ]
  },
  {
   "cell_type": "code",
   "execution_count": null,
   "metadata": {},
   "outputs": [],
   "source": []
  }
 ],
 "metadata": {
  "kernelspec": {
   "display_name": "Python 3",
   "language": "python",
   "name": "python3"
  },
  "language_info": {
   "codemirror_mode": {
    "name": "ipython",
    "version": 3
   },
   "file_extension": ".py",
   "mimetype": "text/x-python",
   "name": "python",
   "nbconvert_exporter": "python",
   "pygments_lexer": "ipython3",
   "version": "3.7.3"
  }
 },
 "nbformat": 4,
 "nbformat_minor": 2
}
