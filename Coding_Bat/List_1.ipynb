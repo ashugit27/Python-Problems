{
 "cells": [
  {
   "cell_type": "code",
   "execution_count": 16,
   "metadata": {},
   "outputs": [
    {
     "data": {
      "text/plain": [
       "True"
      ]
     },
     "execution_count": 16,
     "metadata": {},
     "output_type": "execute_result"
    }
   ],
   "source": [
    "# Given an array of ints, return True if 6 appears as either the first or last element in the array. \n",
    "# The array will be length 1 or more.\n",
    "\n",
    "def first_last6(nums):\n",
    "    if nums[0] == 6 or nums[-1] == 6:\n",
    "        return True\n",
    "    return False\n",
    "    \n",
    "first_last6([1,2,4,5,6])\n",
    "\n"
   ]
  },
  {
   "cell_type": "code",
   "execution_count": 20,
   "metadata": {},
   "outputs": [
    {
     "data": {
      "text/plain": [
       "True"
      ]
     },
     "execution_count": 20,
     "metadata": {},
     "output_type": "execute_result"
    }
   ],
   "source": [
    "# Given an array of ints, return True if the array is length 1 or more, \n",
    "# and the first element and the last element are equal.\n",
    "\n",
    "\n",
    "def same_first_last(nums):\n",
    "    if len(nums) < 0:\n",
    "        return \n",
    "    elif len(nums) >= 1 and nums[0] == nums[-1]:\n",
    "        return True\n",
    "    return False\n",
    "\n",
    "same_first_last([7])"
   ]
  },
  {
   "cell_type": "code",
   "execution_count": 21,
   "metadata": {},
   "outputs": [
    {
     "data": {
      "text/plain": [
       "[3, 1, 4]"
      ]
     },
     "execution_count": 21,
     "metadata": {},
     "output_type": "execute_result"
    }
   ],
   "source": [
    "# Return an int array length 3 containing the first 3 digits of pi, {3, 1, 4}.\n",
    "\n",
    "def make_pi():\n",
    "    return [3,1,4]\n",
    "\n",
    "make_pi()\n",
    "\n"
   ]
  },
  {
   "cell_type": "code",
   "execution_count": 22,
   "metadata": {},
   "outputs": [
    {
     "data": {
      "text/plain": [
       "True"
      ]
     },
     "execution_count": 22,
     "metadata": {},
     "output_type": "execute_result"
    }
   ],
   "source": [
    "# Given 2 arrays of ints, a and b, return True if they have the same first element or they have the same last element.\n",
    "# Both arrays will be length 1 or more.\n",
    "\n",
    "def common_end(a,b):\n",
    "    if a[0] == b[0] or a[-1] == b[-1]:\n",
    "        return True\n",
    "    return False\n",
    "\n",
    "common_end([1,2,3] , [7,3])"
   ]
  },
  {
   "cell_type": "code",
   "execution_count": 28,
   "metadata": {},
   "outputs": [
    {
     "data": {
      "text/plain": [
       "6"
      ]
     },
     "execution_count": 28,
     "metadata": {},
     "output_type": "execute_result"
    }
   ],
   "source": [
    "# Given an array of ints length 3, return the sum of all the elements.\n",
    "def sum3(nums):\n",
    "    total = 0\n",
    "    for numbers in range(len(nums)):\n",
    "        total = total+nums[numbers]\n",
    "    return total\n",
    "\n",
    "sum3([1,2,3])"
   ]
  },
  {
   "cell_type": "code",
   "execution_count": 36,
   "metadata": {},
   "outputs": [
    {
     "data": {
      "text/plain": [
       "[2, 3, 1]"
      ]
     },
     "execution_count": 36,
     "metadata": {},
     "output_type": "execute_result"
    }
   ],
   "source": [
    "# arr = [1,2,3,4,5,6,7]\n",
    "# temp = arr[0]\n",
    "# for numbers in range(1,len(arr)):\n",
    "#     arr[numbers - 1] = arr[numbers]\n",
    "# arr[-1] = temp\n",
    "\n",
    "# print(arr)\n",
    "\n",
    "\n",
    "\n",
    "# Given an array of ints length 3, return an array with the elements \"rotated left\" so {1, 2, 3} yields {2, 3, 1}.\n",
    "\n",
    "\n",
    "\n",
    "def rotate_left3(nums):\n",
    "    temp = nums[0]\n",
    "    for numbers in range(1,len(nums)):\n",
    "        nums[numbers - 1] = nums[numbers]\n",
    "    nums[-1] = temp\n",
    "    return nums\n",
    "\n",
    "rotate_left3([1,2,3])\n",
    "    "
   ]
  },
  {
   "cell_type": "code",
   "execution_count": 47,
   "metadata": {},
   "outputs": [
    {
     "data": {
      "text/plain": [
       "[3, 2, 1]"
      ]
     },
     "execution_count": 47,
     "metadata": {},
     "output_type": "execute_result"
    }
   ],
   "source": [
    "# b = [1,2,3]\n",
    "# low = 0\n",
    "# high = len(b) - 1\n",
    "# while low < high:\n",
    "#     b[low] , b[high] = b[high] , b[low]\n",
    "#     low+=1\n",
    "#     high-=1\n",
    "#     break\n",
    "    \n",
    "# print(b)\n",
    "\n",
    "# Given an array of ints length 3, return a new array with the elements in reverse order, so {1, 2, 3} becomes {3, 2, 1}.\n",
    "\n",
    "def reverse3(nums):\n",
    "    low = 0\n",
    "    high = len(nums) - 1\n",
    "    while low < high:\n",
    "        nums[low] , nums[high] = nums[high] , nums[low]\n",
    "        low+=1\n",
    "        high-=1\n",
    "        break\n",
    "    return nums\n",
    "    \n",
    "reverse3([1,2,3])"
   ]
  },
  {
   "cell_type": "code",
   "execution_count": 44,
   "metadata": {},
   "outputs": [
    {
     "name": "stdout",
     "output_type": "stream",
     "text": [
      "2\n"
     ]
    }
   ],
   "source": [
    "t = [1,2,3]\n",
    "print(len(t) - 1)"
   ]
  },
  {
   "cell_type": "code",
   "execution_count": null,
   "metadata": {},
   "outputs": [],
   "source": []
  }
 ],
 "metadata": {
  "kernelspec": {
   "display_name": "Python 3",
   "language": "python",
   "name": "python3"
  },
  "language_info": {
   "codemirror_mode": {
    "name": "ipython",
    "version": 3
   },
   "file_extension": ".py",
   "mimetype": "text/x-python",
   "name": "python",
   "nbconvert_exporter": "python",
   "pygments_lexer": "ipython3",
   "version": "3.7.3"
  }
 },
 "nbformat": 4,
 "nbformat_minor": 2
}
