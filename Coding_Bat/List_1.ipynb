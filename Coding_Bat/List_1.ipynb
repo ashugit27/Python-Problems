{
 "cells": [
  {
   "cell_type": "code",
   "execution_count": null,
   "metadata": {},
   "outputs": [],
   "source": [
    "# Given an array of ints, return True if 6 appears as either the first or last element in the array. \n",
    "# The array will be length 1 or more.\n",
    "\n",
    "def first_last6(nums):\n",
    "    if nums[0] == 6 or nums[-1] == 6:\n",
    "        return True\n",
    "    return False\n",
    "    \n",
    "first_last6([1,2,4,5,6])\n",
    "\n"
   ]
  },
  {
   "cell_type": "code",
   "execution_count": null,
   "metadata": {},
   "outputs": [],
   "source": [
    "# Given an array of ints, return True if the array is length 1 or more, \n",
    "# and the first element and the last element are equal.\n",
    "\n",
    "\n",
    "def same_first_last(nums):\n",
    "    if len(nums) < 0:\n",
    "        return \n",
    "    elif len(nums) >= 1 and nums[0] == nums[-1]:\n",
    "        return True\n",
    "    return False\n",
    "\n",
    "same_first_last([7])"
   ]
  },
  {
   "cell_type": "code",
   "execution_count": null,
   "metadata": {},
   "outputs": [],
   "source": [
    "# Return an int array length 3 containing the first 3 digits of pi, {3, 1, 4}.\n",
    "\n",
    "def make_pi():\n",
    "    return [3,1,4]\n",
    "\n",
    "make_pi()\n",
    "\n"
   ]
  },
  {
   "cell_type": "code",
   "execution_count": null,
   "metadata": {},
   "outputs": [],
   "source": [
    "# Given 2 arrays of ints, a and b, return True if they have the same first element or they have the same last element.\n",
    "# Both arrays will be length 1 or more.\n",
    "\n",
    "def common_end(a,b):\n",
    "    if a[0] == b[0] or a[-1] == b[-1]:\n",
    "        return True\n",
    "    return False\n",
    "\n",
    "common_end([1,2,3] , [7,3])"
   ]
  },
  {
   "cell_type": "code",
   "execution_count": null,
   "metadata": {},
   "outputs": [],
   "source": [
    "# Given an array of ints length 3, return the sum of all the elements.\n",
    "def sum3(nums):\n",
    "    total = 0\n",
    "    for numbers in range(len(nums)):\n",
    "        total = total+nums[numbers]\n",
    "    return total\n",
    "\n",
    "sum3([1,2,3])"
   ]
  },
  {
   "cell_type": "code",
   "execution_count": null,
   "metadata": {},
   "outputs": [],
   "source": [
    "# arr = [1,2,3,4,5,6,7]\n",
    "# temp = arr[0]\n",
    "# for numbers in range(1,len(arr)):\n",
    "#     arr[numbers - 1] = arr[numbers]\n",
    "# arr[-1] = temp\n",
    "\n",
    "# print(arr)\n",
    "\n",
    "\n",
    "\n",
    "# Given an array of ints length 3, return an array with the elements \"rotated left\" so {1, 2, 3} yields {2, 3, 1}.\n",
    "\n",
    "\n",
    "\n",
    "def rotate_left3(nums):\n",
    "    temp = nums[0]\n",
    "    for numbers in range(1,len(nums)):\n",
    "        nums[numbers - 1] = nums[numbers]\n",
    "    nums[-1] = temp\n",
    "    return nums\n",
    "\n",
    "rotate_left3([1,2,3])\n",
    "    "
   ]
  },
  {
   "cell_type": "code",
   "execution_count": null,
   "metadata": {},
   "outputs": [],
   "source": [
    "# b = [1,2,3]\n",
    "# low = 0\n",
    "# high = len(b) - 1\n",
    "# while low < high:\n",
    "#     b[low] , b[high] = b[high] , b[low]\n",
    "#     low+=1\n",
    "#     high-=1\n",
    "#     break\n",
    "    \n",
    "# print(b)\n",
    "\n",
    "# Given an array of ints length 3, return a new array with the elements in reverse order, so {1, 2, 3} becomes {3, 2, 1}.\n",
    "\n",
    "def reverse3(nums):\n",
    "    low = 0\n",
    "    high = len(nums) - 1\n",
    "    while low < high:\n",
    "        nums[low] , nums[high] = nums[high] , nums[low]\n",
    "        low+=1\n",
    "        high-=1\n",
    "        break\n",
    "    return nums\n",
    "    \n",
    "reverse3([1,2,3])"
   ]
  },
  {
   "cell_type": "code",
   "execution_count": null,
   "metadata": {},
   "outputs": [],
   "source": [
    "# Given an array of ints length 3, figure out which is larger, the first or last element in the array, \n",
    "# and set all the other elements to be that value. Return the changed array.\n",
    "\n",
    "def max_end3(nums):\n",
    "    if nums[0] > nums[-1]:\n",
    "        return [nums[0], nums[0], nums[0]]\n",
    "    else:\n",
    "        return [nums[-1], nums[-1], nums[-1]]\n",
    "    \n",
    "max_end3([8,2,3])\n",
    "\n",
    "\n",
    "\n"
   ]
  },
  {
   "cell_type": "code",
   "execution_count": null,
   "metadata": {},
   "outputs": [],
   "source": [
    "#  Given an array of ints, return the sum of the first 2 elements in the array. \n",
    "# If the array length is less than 2, just sum up the elements that exist, \n",
    "# returning 0 if the array is length 0.\n",
    "\n",
    "\n",
    "def sum2(nums):\n",
    "    if len(nums) == 0:\n",
    "        return 0\n",
    "    elif len(nums) < 2:\n",
    "        return nums[0]\n",
    "    elif len(nums) >= 2:\n",
    "        return nums[0] + nums[1]\n",
    "    \n",
    "sum2([])"
   ]
  },
  {
   "cell_type": "code",
   "execution_count": null,
   "metadata": {},
   "outputs": [],
   "source": [
    "# Given 2 int arrays, a and b, each length 3, return a new array length 2 containing their middle elements.\n",
    "\n",
    "def middle_way(a,b):\n",
    "    return [a[1],b[1]]\n",
    "\n",
    "middle_way([1,2,3],[1,2,3])"
   ]
  },
  {
   "cell_type": "code",
   "execution_count": 17,
   "metadata": {},
   "outputs": [
    {
     "data": {
      "text/plain": [
       "[1, 3]"
      ]
     },
     "execution_count": 17,
     "metadata": {},
     "output_type": "execute_result"
    }
   ],
   "source": [
    "# Given an array of ints, return a new array length 2 containing the first and last elements from the original array. \n",
    "# The original array will be length 1 or more.\n",
    "\n",
    "def make_ends(nums):\n",
    "    return [nums[0] , nums[-1]]\n",
    "   \n",
    "\n",
    "make_ends([1,2,3])\n",
    "\n"
   ]
  },
  {
   "cell_type": "code",
   "execution_count": 19,
   "metadata": {},
   "outputs": [
    {
     "data": {
      "text/plain": [
       "False"
      ]
     },
     "execution_count": 19,
     "metadata": {},
     "output_type": "execute_result"
    }
   ],
   "source": [
    "# Given an int array length 2, return True if it contains a 2 or a 3.\n",
    "def has23(nums):\n",
    "    if 2 in nums or 3 in nums:\n",
    "        return True\n",
    "    return False\n",
    "\n",
    "has23([1,6])\n"
   ]
  },
  {
   "cell_type": "code",
   "execution_count": null,
   "metadata": {},
   "outputs": [],
   "source": []
  }
 ],
 "metadata": {
  "kernelspec": {
   "display_name": "Python 3",
   "language": "python",
   "name": "python3"
  },
  "language_info": {
   "codemirror_mode": {
    "name": "ipython",
    "version": 3
   },
   "file_extension": ".py",
   "mimetype": "text/x-python",
   "name": "python",
   "nbconvert_exporter": "python",
   "pygments_lexer": "ipython3",
   "version": "3.7.3"
  }
 },
 "nbformat": 4,
 "nbformat_minor": 2
}
