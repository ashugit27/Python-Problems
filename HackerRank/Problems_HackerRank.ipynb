{
 "cells": [
  {
   "cell_type": "code",
   "execution_count": 2,
   "metadata": {},
   "outputs": [
    {
     "name": "stdout",
     "output_type": "stream",
     "text": [
      "4\n",
      "5\n"
     ]
    },
    {
     "data": {
      "text/plain": [
       "9"
      ]
     },
     "execution_count": 2,
     "metadata": {},
     "output_type": "execute_result"
    }
   ],
   "source": [
    "#Problem Solving Domain || Algorithms\n",
    "\n",
    "\n",
    "#Problem_1: Solve me First\n",
    "#  Complete the function solveMeFirst to compute the sum of two integers.\n",
    "\n",
    "def solveMeFirst(a,b):\n",
    "    return a + b\n",
    "\n",
    "a = int(input())\n",
    "b = int(input())\n",
    "\n",
    "solveMeFirst(a,b)\n"
   ]
  },
  {
   "cell_type": "code",
   "execution_count": 30,
   "metadata": {},
   "outputs": [
    {
     "name": "stdout",
     "output_type": "stream",
     "text": [
      "1\n",
      "2\n",
      "3\n",
      "4\n",
      "5\n",
      "6\n"
     ]
    }
   ],
   "source": [
    "#############################CORE CONCEPTS####################################\n",
    "my_list = [1,2,3,4,5,6]\n",
    "for items in my_list:\n",
    "    print(items)\n",
    "#total = total + items of an array\n",
    "# total = 0 + 1 -> 1 \n",
    "# total = 1\n",
    "# total = 1 + 2(looping on next item) -> 3  \n",
    "\n",
    "\n"
   ]
  },
  {
   "cell_type": "code",
   "execution_count": 28,
   "metadata": {},
   "outputs": [
    {
     "data": {
      "text/plain": [
       "15"
      ]
     },
     "execution_count": 28,
     "metadata": {},
     "output_type": "execute_result"
    }
   ],
   "source": [
    "# Problem_2: Simple Array Sum\n",
    "# Given an array of integers, find the sum of its elements.\n",
    "\n",
    "\n",
    "def simpleArraySum(arr):\n",
    "    total = 0\n",
    "    for items in range(0,len(arr)):\n",
    "        total = total + arr[items]\n",
    "    return total\n",
    "\n",
    "simpleArraySum([1,2,3,4,5])\n",
    "    \n"
   ]
  },
  {
   "cell_type": "code",
   "execution_count": null,
   "metadata": {},
   "outputs": [],
   "source": []
  },
  {
   "cell_type": "code",
   "execution_count": null,
   "metadata": {},
   "outputs": [],
   "source": []
  }
 ],
 "metadata": {
  "kernelspec": {
   "display_name": "Python 3",
   "language": "python",
   "name": "python3"
  },
  "language_info": {
   "codemirror_mode": {
    "name": "ipython",
    "version": 3
   },
   "file_extension": ".py",
   "mimetype": "text/x-python",
   "name": "python",
   "nbconvert_exporter": "python",
   "pygments_lexer": "ipython3",
   "version": "3.7.3"
  }
 },
 "nbformat": 4,
 "nbformat_minor": 2
}
