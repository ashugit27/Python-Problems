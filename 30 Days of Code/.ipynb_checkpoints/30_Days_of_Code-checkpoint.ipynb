{
 "cells": [
  {
   "cell_type": "code",
   "execution_count": null,
   "metadata": {},
   "outputs": [],
   "source": [
    "# Day :: 0\n",
    "\n",
    "\n",
    "\n",
    "# Read a full line of input from stdin and save it to our dynamically typed variable, input_string.\n",
    "input_string = input()\n",
    "\n",
    "# Print a string literal saying \"Hello, World.\" to stdout.\n",
    "print('Hello, World.')\n",
    "\n",
    "# TODO: Write a line of code here that prints the contents of input_string to stdout.\n",
    "print(input_string)\n"
   ]
  },
  {
   "cell_type": "code",
   "execution_count": null,
   "metadata": {},
   "outputs": [],
   "source": [
    "#  Day :: 1\n",
    "\n",
    "i = 4\n",
    "d = 4.0\n",
    "s = 'HackerRank '\n",
    "\n",
    "a = int(input())\n",
    "b = float(input())\n",
    "c = input()\n",
    "\n",
    "print(i + a)\n",
    "print(d + b)\n",
    "print(s + c)"
   ]
  },
  {
   "cell_type": "code",
   "execution_count": null,
   "metadata": {},
   "outputs": [],
   "source": [
    "# Day :: 2 \n",
    "\n",
    "def Solvemealcost(mealCost , tipPercent , taxPercent):\n",
    "    tipPercent = mealCost * (tipPercent / 100)\n",
    "\n",
    "    taxPercent = mealCost * (taxPercent / 100)\n",
    "\n",
    "    total = mealCost + tipPercent + taxPercent\n",
    "    print(round(total))\n",
    "\n",
    "\n",
    "mealCost = float(input())\n",
    "tipPercent = int(input())\n",
    "taxPercent = int(input())\n",
    "\n",
    "Solvemealcost(mealCost , tipPercent , taxPercent)\n",
    "    \n",
    "\n",
    "\n"
   ]
  },
  {
   "cell_type": "code",
   "execution_count": null,
   "metadata": {},
   "outputs": [],
   "source": [
    "# Day :: 3\n",
    "\n",
    "n = int(input())\n",
    "\n",
    "if n % 2 != 0:\n",
    "    print('Weird')\n",
    "elif n % 2 == 0 and n in  range(2,6):\n",
    "    print('Not Weird')\n",
    "elif n % 2 == 0 and in range(6,21):\n",
    "    print('Weird')\n",
    "elif n % 2 == 0 and n > 20:\n",
    "    print('Not Weird')"
   ]
  },
  {
   "cell_type": "code",
   "execution_count": null,
   "metadata": {},
   "outputs": [],
   "source": [
    "# Day :: 4\n",
    "\n",
    "\n",
    "class Person:\n",
    "    \n",
    "    def __init__(self,initialAge):\n",
    "        \n",
    "        if initialAge < 0:\n",
    "            print('Age is not valid, setting age to 0.')\n",
    "            self.age = 0\n",
    "        else:\n",
    "            self.age = initialAge\n",
    "            \n",
    "    \n",
    "    def yearPasses(self):\n",
    "        self.age+= 1\n",
    "    \n",
    "    def amIOld(self):\n",
    "        if self.age < 13:\n",
    "            print('You are young.')\n",
    "        elif self.age >= 13 and self.age < 18:\n",
    "            print('You are a teenager.')\n",
    "        else:\n",
    "            print('You are old.')\n",
    "            \n",
    "p = Person(10)\n",
    "p.yearPasses()\n",
    "p.amIOld()\n",
    "        \n",
    "            "
   ]
  },
  {
   "cell_type": "code",
   "execution_count": null,
   "metadata": {},
   "outputs": [],
   "source": [
    "# Day :: 5\n",
    "\n",
    "number = int(input())\n",
    "count = 0\n",
    "\n",
    "for count in range(0,10):\n",
    "    count+= 1\n",
    "    result = number  * count\n",
    "    print(f'{number} x {count} = {result} ')"
   ]
  },
  {
   "cell_type": "code",
   "execution_count": null,
   "metadata": {},
   "outputs": [],
   "source": [
    "# Day :: 6\n",
    "\n",
    "for N in range(int(input())):\n",
    "    S = input()\n",
    "    print(S[::2], S[1::2])\n",
    "\n"
   ]
  },
  {
   "cell_type": "code",
   "execution_count": null,
   "metadata": {},
   "outputs": [],
   "source": [
    "# Day 7 :: Arrays\n",
    "\n",
    "my_list = []\n",
    "numbers = int(input())\n",
    "\n",
    "for numbers in range(0,numbers):\n",
    "    nums = str(int(input()))\n",
    "    my_list.append(nums)\n",
    "    \n",
    "    \n",
    "print(','.join(my_list[::-1]))"
   ]
  },
  {
   "cell_type": "code",
   "execution_count": null,
   "metadata": {},
   "outputs": [],
   "source": [
    "# Day :: 9\n",
    "\n",
    "def factorial(n):\n",
    "    fact = 1\n",
    "    for items in range(1,n+1):\n",
    "         fact = fact * items\n",
    "    return fact\n",
    "    \n",
    "factorial(5)"
   ]
  },
  {
   "cell_type": "code",
   "execution_count": 5,
   "metadata": {},
   "outputs": [
    {
     "name": "stdout",
     "output_type": "stream",
     "text": [
      "4\n",
      "1\n",
      "2\n",
      "3\n",
      "4\n",
      "4,3,2,1\n"
     ]
    }
   ],
   "source": [
    "\n"
   ]
  },
  {
   "cell_type": "markdown",
   "metadata": {},
   "source": [
    "## "
   ]
  }
 ],
 "metadata": {
  "kernelspec": {
   "display_name": "Python 3",
   "language": "python",
   "name": "python3"
  },
  "language_info": {
   "codemirror_mode": {
    "name": "ipython",
    "version": 3
   },
   "file_extension": ".py",
   "mimetype": "text/x-python",
   "name": "python",
   "nbconvert_exporter": "python",
   "pygments_lexer": "ipython3",
   "version": "3.7.3"
  }
 },
 "nbformat": 4,
 "nbformat_minor": 2
}
